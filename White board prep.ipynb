{
 "cells": [
  {
   "cell_type": "markdown",
   "metadata": {},
   "source": [
    "[1.Union](#1.)\n",
    "\n",
    "[2.TwoSum](#2.)\n",
    "\n",
    "[3.Longest Substring](#3.)\n",
    "\n",
    "[4.Shortest Route](#4.)\n",
    "\n",
    "[5.Find a Duplicate](#5.)\n",
    "\n",
    "[6.Two Eggs Problem](#6.)\n",
    "\n",
    "[7.Cake Thief Problem](#7.)\n",
    "\n",
    "[8.Apple Stock](#8.)\n",
    "\n",
    "[9.Rotation Ponit](#9)\n",
    "\n",
    "[10.Palindrome Partitioning II](#10.)\n",
    "\n",
    "[11.Word Ladder](#11.)"
   ]
  },
  {
   "cell_type": "markdown",
   "metadata": {},
   "source": [
    "### 1. Union\n",
    "The first recursive problem I have solved. Sure very basic and easy, but getting to know the idea of recursion for the very first time, it is briliant!"
   ]
  },
  {
   "cell_type": "code",
   "execution_count": 1,
   "metadata": {
    "collapsed": true
   },
   "outputs": [],
   "source": [
    "def union(set1, set2):\n",
    "   \"\"\"\n",
    "   set1 and set2 are collections of objects, each of which might be empty.\n",
    "   Each set has no duplicates within itself, but there may be objects that\n",
    "   are in both sets. Objects are assumed to be of the same type.\n",
    "\n",
    "   This function returns one set containing all elements from\n",
    "   both input sets, but with no duplicates.\n",
    "   \"\"\"\n",
    "   if len(set1) == 0:\n",
    "      return set2\n",
    "   elif set1[0] in set2:\n",
    "      return union(set1[1:], set2)\n",
    "   else:\n",
    "      return set1[0] + union(set1[1:], set2)"
   ]
  },
  {
   "cell_type": "code",
   "execution_count": 10,
   "metadata": {},
   "outputs": [
    {
     "data": {
      "text/plain": [
       "'abc'"
      ]
     },
     "execution_count": 10,
     "metadata": {},
     "output_type": "execute_result"
    }
   ],
   "source": [
    "union('a','abc')"
   ]
  },
  {
   "cell_type": "code",
   "execution_count": 31,
   "metadata": {
    "collapsed": true
   },
   "outputs": [],
   "source": [
    "def f(n):\n",
    "   \"\"\"\n",
    "   n: integer, n >= 0.\n",
    "   \"\"\"\n",
    "   if n == 0:\n",
    "      return 1\n",
    "   else:\n",
    "      return n * f(n-1)"
   ]
  },
  {
   "cell_type": "code",
   "execution_count": 76,
   "metadata": {
    "collapsed": true
   },
   "outputs": [],
   "source": [
    "nums = [2, 7, 11, 15]\n",
    "target = 9"
   ]
  },
  {
   "cell_type": "markdown",
   "metadata": {},
   "source": [
    "### TwoSum \n",
    "A couple of solutions like"
   ]
  },
  {
   "cell_type": "code",
   "execution_count": 72,
   "metadata": {
    "collapsed": true
   },
   "outputs": [],
   "source": [
    "def twoSum(nums, target):\n",
    "        if len(nums) <= 1:\n",
    "            return False\n",
    "        buff_dict = {}\n",
    "        for i in range(len(nums)):\n",
    "            if nums[i] in buff_dict:\n",
    "                return [buff_dict[nums[i]], i]\n",
    "            else:\n",
    "                buff_dict[target - nums[i]] = i"
   ]
  },
  {
   "cell_type": "code",
   "execution_count": 77,
   "metadata": {
    "collapsed": true
   },
   "outputs": [],
   "source": [
    "def twoSum(nums, target):\n",
    "        \"\"\"\n",
    "        :type nums: List[int]\n",
    "        :type target: int\n",
    "        :rtype: List[int]\n",
    "        \"\"\"\n",
    "        return [x for x in range(len(nums)) if (target-nums[x]) in (nums[:x]+nums[x+1:])]"
   ]
  },
  {
   "cell_type": "code",
   "execution_count": 79,
   "metadata": {
    "collapsed": true
   },
   "outputs": [],
   "source": [
    "def two_sum(nums, target):\n",
    "    mem = dict()\n",
    "    for i, n in enumerate(nums):\n",
    "        if target - n in mem:\n",
    "            return [mem[target - n], i]\n",
    "        mem[n] = i"
   ]
  },
  {
   "cell_type": "code",
   "execution_count": 80,
   "metadata": {},
   "outputs": [
    {
     "data": {
      "text/plain": [
       "[0, 2]"
      ]
     },
     "execution_count": 80,
     "metadata": {},
     "output_type": "execute_result"
    }
   ],
   "source": [
    "twoSum(nums, target)"
   ]
  },
  {
   "cell_type": "code",
   "execution_count": null,
   "metadata": {
    "collapsed": true
   },
   "outputs": [],
   "source": [
    "### 3.Longest substring "
   ]
  },
  {
   "cell_type": "code",
   "execution_count": 153,
   "metadata": {
    "collapsed": true
   },
   "outputs": [],
   "source": [
    "def findsubstring (string):\n",
    "    substring=[]\n",
    "    sub_len=0\n",
    "    max_len=0\n",
    "    for i in range(len(string)):\n",
    "        if string[i] not in substring:\n",
    "                substring.append(string[i])            \n",
    "        else:\n",
    "            substring=[]\n",
    "            substring.append(string[i])  \n",
    "    sub_len=len(substring)\n",
    "    if sub_len>max_len:\n",
    "        max_len=sub_len         \n",
    "    return (substring, max_len)\n",
    "                    "
   ]
  },
  {
   "cell_type": "code",
   "execution_count": 154,
   "metadata": {},
   "outputs": [
    {
     "data": {
      "text/plain": [
       "(['c', 'e', 'd', 'h'], 4)"
      ]
     },
     "execution_count": 154,
     "metadata": {},
     "output_type": "execute_result"
    }
   ],
   "source": [
    "#find the longest unrepeated string\n",
    "s=\"zzzzcdabcedh\"\n",
    "findsubstring(s)"
   ]
  },
  {
   "cell_type": "code",
   "execution_count": 134,
   "metadata": {},
   "outputs": [
    {
     "data": {
      "text/plain": [
       "(['b', 'c'], 1)"
      ]
     },
     "execution_count": 134,
     "metadata": {},
     "output_type": "execute_result"
    }
   ],
   "source": [
    "s2='bbbbbbbc'\n",
    "findsubstring(s2)"
   ]
  },
  {
   "cell_type": "markdown",
   "metadata": {},
   "source": [
    "###4.Shortest Route\n",
    "\n",
    "Given information about active users on the network, find the shortest route for a message from one user (the sender) to another (the recipient). Return a list of users that make up this route.\n",
    "\n",
    "Your network information takes the form of a dictionary mapping username strings to a list of other users nearby:\n",
    "network = {\n",
    "    'Min'     : ['William', 'Jayden', 'Omar'],\n",
    "    'William' : ['Min', 'Noam'],\n",
    "    'Jayden'  : ['Min', 'Amelia', 'Ren', 'Noam'],\n",
    "    'Ren'     : ['Jayden', 'Omar'],\n",
    "    'Amelia'  : ['Jayden', 'Adam', 'Miguel'],\n",
    "    'Adam'    : ['Amelia', 'Miguel', 'Sofia', 'Lucas'],\n",
    "    'Miguel'  : ['Amelia', 'Adam', 'Liam', 'Nathan'],\n",
    "    'Noam'    : ['Nathan', 'Jayden', 'William'],\n",
    "    'Omar'    : ['Ren', 'Min', 'Scott'],\n",
    "    ...\n",
    "}\n",
    "For the network above, a message from Jayden to Adam should have this route:\n",
    "['Jayden', 'Amelia', 'Adam']\n",
    "\n",
    "https://www.interviewcake.com/images/svgs/mesh_message__example_graph.svg?bust=186![image.png](attachment:image.png)"
   ]
  },
  {
   "cell_type": "code",
   "execution_count": null,
   "metadata": {
    "collapsed": true
   },
   "outputs": [],
   "source": [
    "from collections import deque\n",
    "\n",
    "\n",
    "def reconstruct_path(previous_nodes, start_node, end_node):\n",
    "    reversed_shortest_path = []\n",
    "\n",
    "    # Start from the end of the path and work backwards\n",
    "    current_node = end_node\n",
    "    while current_node:\n",
    "        reversed_shortest_path.append(current_node)\n",
    "        current_node = previous_nodes[current_node]\n",
    "\n",
    "    # Reverse our path to get the right order\n",
    "    reversed_shortest_path.reverse()  # flip it around, in place\n",
    "    return reversed_shortest_path  # no longer reversed\n",
    "\n",
    "\n",
    "def bfs_get_path(graph, start_node, end_node):\n",
    "    if start_node not in graph:\n",
    "        raise Exception('Start node not in graph')\n",
    "    if end_node not in graph:\n",
    "        raise Exception('End node not in graph')\n",
    "\n",
    "    nodes_to_visit = deque()\n",
    "    nodes_to_visit.append(start_node)\n",
    "\n",
    "    # Keep track of how we got to each node\n",
    "    # We'll use this to reconstruct the shortest path at the end\n",
    "    # We'll ALSO use this to keep track of which nodes we've\n",
    "    # already visited\n",
    "    how_we_reached_nodes = {start_node: None}\n",
    "\n",
    "    while len(nodes_to_visit) > 0:\n",
    "        current_node = nodes_to_visit.popleft()\n",
    "\n",
    "        # Stop when we reach the end node\n",
    "        if current_node == end_node:\n",
    "            return reconstruct_path(how_we_reached_nodes, start_node, end_node)\n",
    "\n",
    "        for neighbor in graph[current_node]:\n",
    "            if neighbor not in how_we_reached_nodes:\n",
    "                nodes_to_visit.append(neighbor)\n",
    "                how_we_reached_nodes[neighbor] = current_node\n",
    "\n",
    "    # If we get here, then we never found the end node\n",
    "    # so there's NO path from start_node to end_node\n",
    "    return None"
   ]
  },
  {
   "cell_type": "code",
   "execution_count": null,
   "metadata": {
    "collapsed": true
   },
   "outputs": [],
   "source": [
    "### 5.Find a duplicate, Space Edition™ BEAST MODE\n",
    "\n",
    "In Find a duplicate, Space Edition™, we were given a list of integers where:\n",
    "\n",
    "the integers are in the range 1..n1..n\n",
    "the list has a length of n+1n+1\n",
    "These properties mean the list must have at least 1 duplicate. Our challenge was to find a duplicate number, while optimizing for space. We used a divide and conquer approach, iteratively cutting the list in half to find a duplicate integer in O(n\\lg{n})O(nlgn) time and O(1)O(1) space (sort of a modified binary search).\n",
    "\n",
    "But we can actually do better. We can find a duplicate integer in O(n)O(n) time while keeping our space cost at O(1)O(1).\n",
    "\n",
    "Solution\n",
    "We treat the input list as a linked list like we described at the top in the problem.\n",
    "\n",
    "To find a duplicate integer:\n",
    "\n",
    "We know the position of a node with multiple incoming pointers is a duplicate in our list because the nodes that pointed to it must have the same value.\n",
    "We find a node with multiple incoming pointers by finding the first node in a cycle.\n",
    "We find the first node in a cycle by finding the length of the cycle and advancing two pointers: one starting at the head of the linked list, and the other starting ahead as many steps as there are nodes in the cycle. The pointers will meet at the first node in the cycle.\n",
    "We find the length of a cycle by remembering a position inside the cycle and counting the number of steps it takes to get back to that position.\n",
    "We get inside a cycle by starting at the head and walking nn steps. We know the head of the list is at position n + 1n+1.\n",
    "We want to think of our list as a linked list but we don't want to actually use up all that space, so we traverse our list as if it were a linked list ↴ by converting positions to indices.\n"
   ]
  },
  {
   "cell_type": "code",
   "execution_count": null,
   "metadata": {
    "collapsed": true
   },
   "outputs": [],
   "source": [
    "def find_duplicate(int_list):\n",
    "    n = len(int_list) - 1\n",
    "\n",
    "    # STEP 1: GET INSIDE A CYCLE\n",
    "    # Start at position n+1 and walk n steps to\n",
    "    # find a position guaranteed to be in a cycle\n",
    "    position_in_cycle = n + 1\n",
    "    for _ in xrange(n):\n",
    "        position_in_cycle = int_list[position_in_cycle - 1]\n",
    "        # we subtract 1 from the current position to step ahead:\n",
    "        # the 2nd *position* in a list is *index* 1\n",
    "\n",
    "    # STEP 2: FIND THE LENGTH OF THE CYCLE\n",
    "    # Find the length of the cycle by remembering a position in the cycle\n",
    "    # and counting the steps it takes to get back to that position\n",
    "    remembered_position_in_cycle = position_in_cycle\n",
    "    current_position_in_cycle = int_list[position_in_cycle - 1]  # 1 step ahead\n",
    "    cycle_step_count = 1\n",
    "\n",
    "    while current_position_in_cycle != remembered_position_in_cycle:\n",
    "        current_position_in_cycle = int_list[current_position_in_cycle - 1]\n",
    "        cycle_step_count += 1\n",
    "\n",
    "    # STEP 3: FIND THE FIRST NODE OF THE CYCLE\n",
    "    # Start two pointers\n",
    "    #   (1) at position n+1\n",
    "    #   (2) ahead of position n+1 as many steps as the cycle's length\n",
    "    pointer_start = n + 1\n",
    "    pointer_ahead = n + 1\n",
    "    for _ in xrange(cycle_step_count):\n",
    "        pointer_ahead = int_list[pointer_ahead - 1]\n",
    "\n",
    "    # Advance until the pointers are in the same position\n",
    "    # which is the first node in the cycle\n",
    "    while pointer_start != pointer_ahead:\n",
    "        pointer_start = int_list[pointer_start - 1]\n",
    "        pointer_ahead = int_list[pointer_ahead - 1]\n",
    "\n",
    "    # Since there are multiple values pointing to the first node\n",
    "    # in the cycle, its position is a duplicate in our list\n",
    "    return pointer_start"
   ]
  },
  {
   "cell_type": "markdown",
   "metadata": {},
   "source": [
    "### 6.Two Eggs Problem\n",
    "\n",
    "A building has 100 floors. One of the floors is the highest floor an egg can be dropped from without breaking.\n",
    "\n",
    "If an egg is dropped from above that floor, it will break. If it is dropped from that floor or below, it will be completely undamaged and you can drop the egg again.\n",
    "\n",
    "Given two eggs, find the highest floor an egg can be dropped from without breaking, with as few drops as possible.\n",
    "\n",
    "We can do better than a binary ↴ approach, which would have a worst case of 50 drops.\n",
    "\n",
    "We can even do better than 19 drops!\n",
    "\n",
    "We can always find the highest floor an egg can be dropped from with a worst case of 14 total drops."
   ]
  },
  {
   "cell_type": "markdown",
   "metadata": {},
   "source": [
    "Minimization of Maximum Regret\n",
    "What we need is a solution that minimizes our maximum regret. The examples above hint towards what we need is a strategy that tries to make solutions to all possible answers the same depth (same number of drops). The way to reduce the worst case is to attempt to make all cases take the same number of drops.\n",
    "\n",
    "\n",
    "As I hope you can see by now, if the solution lays somewhere in a floor low down, then we have extra-headroom when we need to step by singles, but, as we get higher up the building, we’ve already used drop chances to get there, so there we have less drops left when we have to switch to going floor-by-floor.\n",
    "\n",
    "Let’s break out some algebra.\n",
    "\n",
    "Imagine we drop our first egg from floor n, if it breaks, we can step through the previous (n-1) floors one-by-one.\n",
    "\n",
    "If it doesn’t break, rather than jumping up another n floors, instead we should step up just (n-1) floors (because we have one less drop available if we have to switch to one-by-one floors), so the next floor we should try is floor n + (n-1)\n",
    "\n",
    "Similarly, if this drop does not break, we next need to jump up to floor n + (n-1) + (n-2), then floor n + (n-1) + (n-2) + (n-3) …\n",
    "\n",
    "We keep reducing the step by one each time we jump up, until that step-up is just one floor, and get the following equation for a 100 floor building:\n",
    "\n",
    "n + (n-1) + (n-2) + (n-3) + (n-4) + … + 1  >=  100\n",
    "\n",
    "This summation, as many will recognize, is the formula for triangular numbers (which kind of makes sense, since we’re reducing the step by one each drop we make) and can be simplified to:\n",
    "\n",
    "n (n+1) / 2  >=  100\n",
    "\n",
    "This is a quadratic equation, with the positive root of 13.651 (Which we have to round up to 14. This is not a John Malkovich movie!).\n",
    "\n",
    "Two egg solution\n",
    "We now have all the information to compute the optimal two egg solution.\n",
    "\n",
    " Drop \t Floor \n",
    "###1\t     14\n",
    "###2\t     27\n",
    "###3\t     39\n",
    "###4\t     50\n",
    "###5\t     60\n",
    "###6\t     69\n",
    "###7\t     77\n",
    "###8\t     84\n",
    "###9\t     90\n",
    "###10\t     95\n",
    "###11\t     99\n",
    "###12\t    100\n",
    "Our first drop should be from floor 14, if egg survives we step up 13 floors to floor 27, then up 12 floors to 39 …\n",
    "\n",
    "The optimal strategy is to work our way through the table until the first egg breaks, then back up to one floor higher than the line above and then proceed floor-by-floor until we find the exact solution.\n",
    "\n",
    "This complete table is shown in here on the left.\n",
    "\n",
    "The maximum of 14 drops is a combination first egg drops (made in steps), and second egg drops (made in ones). For every drop we take hopping up the tower, we reduce the worst-case number of single drops we’d have to take so that no solution is an outlier.\n",
    "\n"
   ]
  },
  {
   "cell_type": "markdown",
   "metadata": {},
   "source": [
    "### 7.Cake thief problem\n",
    "You are a renowned thief who has recently switched from stealing precious metals to stealing cakes because of the insane profit margins. You end up hitting the jackpot, breaking into the world's largest privately owned stock of cakes—the vault of the Queen of England.\n",
    "\n",
    "While Queen Elizabeth has a limited number of types of cake, she has an unlimited supply of each type.\n",
    "\n",
    "Each type of cake has a weight and a value, stored in a tuple with two indices:\n",
    "\n",
    "An integer representing the weight of the cake in kilograms\n",
    "An integer representing the monetary value of the cake in British shillings\n",
    "For example:\n"
   ]
  },
  {
   "cell_type": "markdown",
   "metadata": {
    "collapsed": true
   },
   "source": [
    "Weighs 7 kilograms and has a value of 160 shillings\n",
    "(7, 160)\n",
    "\n",
    "Weighs 3 kilograms and has a value of 90 shillings\n",
    "(3, 90)\n"
   ]
  },
  {
   "cell_type": "markdown",
   "metadata": {},
   "source": [
    "You brought a duffel bag that can hold limited weight, and you want to make off with the most valuable haul possible.\n",
    "\n",
    "Write a function max_duffel_bag_value() that takes a list of cake type tuples and a weight capacity, and returns the maximum monetary value the duffel bag can hold."
   ]
  },
  {
   "cell_type": "code",
   "execution_count": null,
   "metadata": {
    "collapsed": true
   },
   "outputs": [],
   "source": [
    "#for example\n",
    "cake_tuples = [(7, 160), (3, 90), (2, 15)]\n",
    "capacity    = 20\n",
    "\n",
    "# Returns 555 (6 of the middle type of cake and 1 of the last type of cake)\n",
    "max_duffel_bag_value(cake_tuples, capacity)"
   ]
  },
  {
   "cell_type": "code",
   "execution_count": 7,
   "metadata": {},
   "outputs": [
    {
     "name": "stdout",
     "output_type": "stream",
     "text": [
      "(30.0, 90, 3)\n",
      "2\n",
      "(23.333333333333332, 140, 6)\n",
      "2\n",
      "(22.857142857142858, 160, 7)\n",
      "2\n",
      "(7.5, 15, 2)\n",
      "0\n",
      "(5.0, 5, 1)\n",
      "0\n",
      "(0.3, 15, 50)\n",
      "0\n",
      "(0.1, 1, 10)\n",
      "0\n"
     ]
    },
    {
     "data": {
      "text/plain": [
       "707.3809523809523"
      ]
     },
     "execution_count": 7,
     "metadata": {},
     "output_type": "execute_result"
    }
   ],
   "source": [
    "import sys\n",
    "from time import time\n",
    "\n",
    "ct= [(7,160), (3,90), (2,15), (50,15), (10,1), (1, 5), (6, 140)]\n",
    "cap = 20\n",
    "\n",
    "def max_duffle_bag_value(cake_tuples, capacity):\n",
    "\n",
    "    while (0,0) in cake_tuples:\n",
    "        cake_tuples.pop(cake_tuples.index((0,0)))\n",
    "\n",
    "    try:\n",
    "        price_per_pound = [(cake[1]/cake[0], cake[1], cake[0]) for cake in cake_tuples]\n",
    "    except ZeroDivisionError:\n",
    "        #return sys.maxint\n",
    "        return \"Infinite\"\n",
    "    bag_value = 0\n",
    "\n",
    "    while len(price_per_pound) > 0:\n",
    "        most_valueable_cake = max(price_per_pound)\n",
    "        print (most_valueable_cake)\n",
    "        bag_value += capacity/most_valueable_cake[2]*most_valueable_cake[1]\n",
    "        capacity %= most_valueable_cake[2]\n",
    "        print (capacity)\n",
    "        price_per_pound.pop(price_per_pound.index(most_valueable_cake))\n",
    "\n",
    "    return bag_value\n",
    "    \n",
    "max_duffle_bag_value(ct, cap)"
   ]
  },
  {
   "cell_type": "markdown",
   "metadata": {},
   "source": [
    "Weights and values may be any non-negative integer. Yes, it's weird to think about cakes that weigh nothing or duffel bags that can't hold anything. But we're not just super mastermind criminals—we're also meticulous about keeping our algorithms flexible and comprehensive."
   ]
  },
  {
   "cell_type": "code",
   "execution_count": null,
   "metadata": {
    "collapsed": true
   },
   "outputs": [],
   "source": [
    "###8.Apple Stock\n",
    "\n",
    "Writing programming interview questions hasn't made me rich yet ... so I might give up and start trading Apple stocks all day instead.\n",
    "\n",
    "First, I wanna know how much money I could have made yesterday if I'd been trading Apple stocks all day.\n",
    "\n",
    "So I grabbed Apple's stock prices from yesterday and put them in a list called stock_prices, where:\n",
    "\n",
    "The indices are the time (in minutes) past trade opening time, which was 9:30am local time.\n",
    "The values are the price (in US dollars) of one share of Apple stock at that time.\n",
    "So if the stock cost $500 at 10:30am, that means stock_prices[60] = 500.\n",
    "\n",
    "Write an efficient function that takes stock_prices and returns the best profit I could have made from one purchase and one sale of one share of Apple stock yesterday.\n",
    "\n",
    "For example:\n",
    "\n",
    "  stock_prices = [10, 7, 5, 8, 11, 9]\n",
    "\n",
    "get_max_profit(stock_prices)\n",
    "# Returns 6 (buying for $5 and selling for $11)\n",
    "\n",
    "No \"shorting\"—you need to buy before you can sell. Also, you can't buy and sell in the same time step—at least 1 minute has to pass."
   ]
  },
  {
   "cell_type": "code",
   "execution_count": null,
   "metadata": {
    "collapsed": true
   },
   "outputs": [],
   "source": [
    "###9. Word Cloud\n",
    "You want to build a word cloud, an infographic where the size of a word corresponds to how often it appears in the body of text.\n",
    "\n",
    "To do this, you'll need data. Write code that takes a long string and builds its word cloud data in a dictionary ↴ , where the keys are words and the values are the number of times the words occurred.\n",
    "\n",
    "Think about capitalized words. For example, look at these sentences:\n",
    "\n",
    "'After beating the eggs, Dana read the next step:'\n",
    "'Add milk and eggs, then add flour and sugar.'\n",
    "What do we want to do with \"After\", \"Dana\", and \"add\"? In this example, your final dictionary should include one \"Add\" or \"add\" with a value of 22. Make reasonable (not necessarily perfect) decisions about cases like \"After\" and \"Dana\".\n",
    "\n",
    "Assume the input will only contain words and standard punctuation.\n",
    "\n",
    "You could make a reasonable argument to use regex in your solution. We won't, mainly because performance is difficult to measure and can get pretty bad."
   ]
  },
  {
   "cell_type": "code",
   "execution_count": null,
   "metadata": {
    "collapsed": true
   },
   "outputs": [],
   "source": [
    "###9. Rotation Ponit\n",
    "\n",
    "I want to learn some big words so people think I'm smart.\n",
    "\n",
    "I opened up a dictionary to a page in the middle and started flipping through, looking for words I didn't know. I put each word I didn't know at increasing indices in a huge list I created in memory. When I reached the end of the dictionary, I started from the beginning and did the same thing until I reached the page I started at.\n",
    "\n",
    "Now I have a list of words that are mostly alphabetical, except they start somewhere in the middle of the alphabet, reach the end, and then start from the beginning of the alphabet. In other words, this is an alphabetically ordered list that has been \"rotated.\" For example:"
   ]
  },
  {
   "cell_type": "code",
   "execution_count": null,
   "metadata": {
    "collapsed": true
   },
   "outputs": [],
   "source": [
    "words = [\n",
    "    'ptolemaic',\n",
    "    'retrograde',\n",
    "    'supplant',\n",
    "    'undulate',\n",
    "    'xenoepist',\n",
    "    'asymptote',  # <-- rotates here!\n",
    "    'babka',\n",
    "    'banoffee',\n",
    "    'engender',\n",
    "    'karpatka',\n",
    "    'othellolagkage',\n",
    "]"
   ]
  },
  {
   "cell_type": "markdown",
   "metadata": {},
   "source": [
    "Write a function for finding the index of the \"rotation point,\" which is where I started working from the beginning of the dictionary. This list is huge (there are lots of words I don't know) so we want to be efficient here.\n",
    "Breakdown\n",
    "The list is mostly ordered. We should exploit that fact.\n",
    "\n",
    "What's a common algorithm that takes advantage of the fact that a list is sorted to find an item efficiently?\n",
    "\n",
    "Binary search! ↴ We can write an adapted version of binary search for this.\n",
    "\n",
    "In each iteration of our binary search, ↴ how do we know if the rotation point is to our left or to our right?\n",
    "\n",
    "Try drawing out an example list!"
   ]
  },
  {
   "cell_type": "code",
   "execution_count": null,
   "metadata": {
    "collapsed": true
   },
   "outputs": [],
   "source": [
    "words = ['k', 'v', 'a', 'b', 'c', 'd', 'e', 'g', 'i']\n",
    "                              ^"
   ]
  },
  {
   "cell_type": "markdown",
   "metadata": {},
   "source": [
    "f our \"current guess\" is the middle item, which is 'c' in this case, is the rotation point to the left or to the right? How do we know?\n",
    "Notice that every item to the right of our rotation point is always alphabetically before the first item in the list.\n",
    "\n",
    "So the rotation point is to our left if the current item is less than the first item. Else it's to our right.\n",
    "\n",
    "Solution\n",
    "This is a modified version of binary search. ↴ At each iteration, we go right if the item we're looking at is greater than the first item and we go left if the item we're looking at is less than the first item.\n",
    "\n",
    "We keep track of the lower and upper bounds on the rotation point, calling them floor_index and ceiling_index (initially we called them \"floor\" and \"ceiling,\" but because we didn't imply the type in the name we got confused and created bugs). When floor_index and ceiling_index are directly next to each other, we know the floor is the last item we added before starting from the beginning of the dictionary, and the ceiling is the first item we added after."
   ]
  },
  {
   "cell_type": "code",
   "execution_count": null,
   "metadata": {
    "collapsed": true
   },
   "outputs": [],
   "source": [
    "def find_rotation_point(words):\n",
    "    first_word = words[0]\n",
    "    floor_index = 0\n",
    "    ceiling_index = len(words) - 1\n",
    "\n",
    "    while floor_index < ceiling_index:\n",
    "        # Guess a point halfway between floor and ceiling\n",
    "        guess_index = floor_index + ((ceiling_index - floor_index) / 2)\n",
    "\n",
    "        # If guess comes after first word or is the first word\n",
    "        if words[guess_index] >= first_word:\n",
    "            # Go right\n",
    "            floor_index = guess_index\n",
    "        else:\n",
    "            # Go left\n",
    "            ceiling_index = guess_index\n",
    "\n",
    "        # If floor and ceiling have converged\n",
    "        if floor_index + 1 == ceiling_index:\n",
    "            # Between floor and ceiling is where we flipped to the beginning\n",
    "            # so ceiling is alphabetically first\n",
    "            return ceiling_index"
   ]
  },
  {
   "cell_type": "code",
   "execution_count": null,
   "metadata": {
    "collapsed": true
   },
   "outputs": [],
   "source": [
    "###10.Palindrome Partitioning II\n",
    "\n",
    "Given a string s, partition s such that every substring of the partition is a palindrome.\n",
    "\n",
    "Return the minimum cuts needed for a palindrome partitioning of s.\n",
    "\n",
    "Example:\n",
    "\n",
    "Input: \"aab\"\n",
    "Output: 1\n",
    "Explanation: The palindrome partitioning [\"aa\",\"b\"] could be produced using 1 cut."
   ]
  },
  {
   "cell_type": "code",
   "execution_count": 9,
   "metadata": {
    "collapsed": true
   },
   "outputs": [],
   "source": [
    "def minCut(s):\n",
    "    cut = [x for x in range(-1,len(s))]\n",
    "    for i in range(0,len(s)):\n",
    "        for j in range(i,len(s)):\n",
    "            if s[i:j] == s[j:i:-1]:\n",
    "                cut[j+1] = min(cut[j+1],cut[i]+1)\n",
    "    return cut[-1]"
   ]
  },
  {
   "cell_type": "code",
   "execution_count": 11,
   "metadata": {},
   "outputs": [
    {
     "data": {
      "text/plain": [
       "2"
      ]
     },
     "execution_count": 11,
     "metadata": {},
     "output_type": "execute_result"
    }
   ],
   "source": [
    "s=\"kayakmadamotto\"\n",
    "minCut(s)"
   ]
  },
  {
   "cell_type": "markdown",
   "metadata": {
    "collapsed": true
   },
   "source": [
    "###11. Word Ladder\n",
    "Given two words (beginWord and endWord), and a dictionary's word list, find the length of shortest transformation sequence from beginWord to endWord, such that:\n",
    "\n",
    "Only one letter can be changed at a time.\n",
    "Each transformed word must exist in the word list. Note that beginWord is not a transformed word.\n",
    "Note:\n",
    "\n",
    "Return 0 if there is no such transformation sequence.\n",
    "All words have the same length.\n",
    "All words contain only lowercase alphabetic characters.\n",
    "You may assume no duplicates in the word list.\n",
    "You may assume beginWord and endWord are non-empty and are not the same.\n",
    "Example 1:\n",
    "\n",
    "Input:\n",
    "beginWord = \"hit\",\n",
    "endWord = \"cog\",\n",
    "wordList = [\"hot\",\"dot\",\"dog\",\"lot\",\"log\",\"cog\"]\n",
    "\n",
    "Output: 5\n",
    "\n",
    "Explanation: As one shortest transformation is \"hit\" -> \"hot\" -> \"dot\" -> \"dog\" -> \"cog\",\n",
    "return its length 5.\n",
    "Example 2:\n",
    "\n",
    "Input:\n",
    "beginWord = \"hit\"\n",
    "endWord = \"cog\"\n",
    "wordList = [\"hot\",\"dot\",\"dog\",\"lot\",\"log\"]\n",
    "\n",
    "Output: 0\n",
    "\n",
    "Explanation: The endWord \"cog\" is not in wordList, therefore no possible transformation.\n"
   ]
  },
  {
   "cell_type": "code",
   "execution_count": 13,
   "metadata": {
    "collapsed": true
   },
   "outputs": [],
   "source": [
    "def ladderLength(beginWord, endWord, wordDict):\n",
    "        length = 2\n",
    "        front, back = set([beginWord]), set([endWord])\n",
    "        wordDict.discard(beginWord)\n",
    "        while front:\n",
    "            # generate all valid transformations\n",
    "            front = wordDict & (set(word[:index] + ch + word[index+1:] for word in front \n",
    "                                for index in range(len(beginWord)) for ch in 'abcdefghijklmnopqrstuvwxyz'))\n",
    "            if front & back:\n",
    "                # there are common elements in front and back, done\n",
    "                return length\n",
    "            length += 1\n",
    "            if len(front) > len(back):\n",
    "                # swap front and back for better performance (fewer choices in generating nextSet)\n",
    "                front, back = back, front\n",
    "            # remove transformations from wordDict to avoid cycle\n",
    "            wordDict -= front\n",
    "        return 0"
   ]
  },
  {
   "cell_type": "code",
   "execution_count": 18,
   "metadata": {
    "collapsed": true
   },
   "outputs": [],
   "source": [
    "beginWord = \"hot\"\n",
    "endWord = \"cog\"\n",
    "wordList = [\"hot\",\"dot\",\"dog\",\"lot\",\"log\",\"cog\"]"
   ]
  },
  {
   "cell_type": "code",
   "execution_count": 19,
   "metadata": {},
   "outputs": [
    {
     "data": {
      "text/plain": [
       "['dot', 'dog', 'lot', 'log', 'cog']"
      ]
     },
     "execution_count": 19,
     "metadata": {},
     "output_type": "execute_result"
    }
   ],
   "source": [
    "wordList.remove(beginWord)\n",
    "wordList"
   ]
  },
  {
   "cell_type": "code",
   "execution_count": 17,
   "metadata": {},
   "outputs": [
    {
     "data": {
      "text/plain": [
       "['dot', 'dog', 'lot', 'log', 'cog']"
      ]
     },
     "execution_count": 17,
     "metadata": {},
     "output_type": "execute_result"
    }
   ],
   "source": [
    "wordList"
   ]
  },
  {
   "cell_type": "code",
   "execution_count": 22,
   "metadata": {},
   "outputs": [
    {
     "data": {
      "text/plain": [
       "6"
      ]
     },
     "execution_count": 22,
     "metadata": {},
     "output_type": "execute_result"
    }
   ],
   "source": [
    "nums=[1, 2, 3]\n",
    "sum(nums)"
   ]
  }
 ],
 "metadata": {
  "kernelspec": {
   "display_name": "Python 3",
   "language": "python",
   "name": "python3"
  },
  "language_info": {
   "codemirror_mode": {
    "name": "ipython",
    "version": 3
   },
   "file_extension": ".py",
   "mimetype": "text/x-python",
   "name": "python",
   "nbconvert_exporter": "python",
   "pygments_lexer": "ipython3",
   "version": "3.6.1"
  }
 },
 "nbformat": 4,
 "nbformat_minor": 2
}
